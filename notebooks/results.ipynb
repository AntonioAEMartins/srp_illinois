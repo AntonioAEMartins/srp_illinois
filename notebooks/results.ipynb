{
 "cells": [
  {
   "cell_type": "code",
   "execution_count": null,
   "metadata": {},
   "outputs": [],
   "source": [
    "import matplotlib.pyplot as plt\n",
    "import numpy as np"
   ]
  },
  {
   "cell_type": "code",
   "execution_count": null,
   "metadata": {},
   "outputs": [],
   "source": [
    "cpp = [9.713, 19.395, 28.487, 36.628, 45.799, 54.880, 64.302, 75.297, 83.775, 93.153]\n",
    "pytorch = [2.8497, 3.4526, 3.7248, 4.0068, 4.6116, 4.6447, 5.1509, 5.9227, 6.4131, 6.7362, 7.25357, 7.77428956, 8.254421]\n",
    "stapl = [0.74289, 1.52005, 2.25441, 2.97979, 3.72645, 4.52029, 5.34859, 6.23042, 7.01844, 7.82656, 8.57175, 9.364, 10.1859]\n",
    "mpi = [0.68546875, 1.3885625, 2.07925, 2.774375, 3.5228125, 4.3519375, 5.002, 5.81015625, 6.52884375, 7.3236245, 8.07471875, 8.82459375, 9.5685]\n",
    "omp = [0.6965615, 1.3885625, 2.02665625, 2.5804375, 3.242875, 3.8866875, 4.56146875, 5.20228125, 5.866125, 6.5553125, 7.2620625, 7.8881875, 8.4975625]"
   ]
  },
  {
   "cell_type": "code",
   "execution_count": null,
   "metadata": {},
   "outputs": [],
   "source": [
    "time = np.arange(5e3, 65e3 + 1, 5e3)"
   ]
  },
  {
   "cell_type": "code",
   "execution_count": null,
   "metadata": {},
   "outputs": [],
   "source": [
    "plt.figure(figsize=(10, 5), dpi=300)\n",
    "plt.title(\"Framework Benchmark\")\n",
    "plt.plot(time[:10], pytorch[:10], label=\"PyTorch\", marker='o', linestyle='--', color='red')\n",
    "plt.plot(time[:10], cpp, label=\"C++\", marker='o', linestyle='--', color='green')\n",
    "plt.plot(time[:10], omp[:10], label=\"OpenMP\", marker='o', linestyle='--', color='purple')\n",
    "plt.plot(time[:10], mpi[:10], label=\"MPI\", marker='o', linestyle='--', color='blue')\n",
    "plt.plot(time[:10], stapl[:10], label=\"STAPL\", marker='o', linestyle='--', color='black')\n",
    "plt.legend()\n",
    "plt.xlabel(\"Size of time vector\")\n",
    "plt.ylabel(\"Time (s)\")\n",
    "plt.savefig(\"../img/framework_benchmark.png\")\n",
    "plt.show()"
   ]
  },
  {
   "cell_type": "code",
   "execution_count": null,
   "metadata": {},
   "outputs": [],
   "source": [
    "plt.figure(figsize=(10, 5), dpi=300)\n",
    "plt.title(\"Framework Benchmark - Best Models\")\n",
    "plt.plot(time, pytorch, label=\"PyTorch\", marker='o', linestyle='--', color='red')\n",
    "plt.plot(time, omp, label=\"OpenMP\", marker='o', linestyle='--', color='purple')\n",
    "plt.plot(time, mpi, label=\"MPI\", marker='o', linestyle='--', color='blue')\n",
    "plt.plot(time, stapl, label=\"STAPL\", marker='o', linestyle='--', color='black')\n",
    "plt.xlabel(\"Size of time vector\")\n",
    "plt.ylabel(\"Time (s)\")\n",
    "plt.legend()\n",
    "plt.savefig(\"../img/framework_benchmark_best.png\")\n",
    "plt.show()"
   ]
  },
  {
   "cell_type": "code",
   "execution_count": null,
   "metadata": {},
   "outputs": [],
   "source": [
    "nodes = [2**x for x in range(5)]"
   ]
  },
  {
   "cell_type": "code",
   "execution_count": null,
   "metadata": {},
   "outputs": [],
   "source": [
    "omp = [8.349375, 4.33265625, 2.2128125, 1.11503125, 0.65046875]\n",
    "mpi = [8.96553125, 4.6768125, 2.3986875, 1.20084375, 0.70490625]\n",
    "stapl = [8.97633, 4.82175, 2.50905, 1.2471, 0.743409]"
   ]
  },
  {
   "cell_type": "code",
   "execution_count": null,
   "metadata": {},
   "outputs": [],
   "source": [
    "plt.figure(figsize=(10, 5), dpi=300)\n",
    "plt.title(\"Scaling Comparison - 5K time vector\")\n",
    "plt.plot(nodes, omp, label=\"OpenMp\", marker='o', linestyle='--', color='purple')\n",
    "plt.plot(nodes, mpi, label=\"MPI\", marker='o', linestyle='--', color='blue')\n",
    "plt.plot(nodes, stapl, label=\"STAPL\", marker='o', linestyle='--', color='black')\n",
    "plt.xlabel(\"Number of nodes\")\n",
    "plt.ylabel(\"Time (s)\")\n",
    "plt.legend()\n",
    "plt.savefig(\"../img/scaling_comparison.png\")\n",
    "plt.show()"
   ]
  },
  {
   "cell_type": "code",
   "execution_count": null,
   "metadata": {},
   "outputs": [],
   "source": [
    "plt.figure(figsize=(10, 5), dpi=300)\n",
    "plt.title(\"Scaling Comparison LOG_2 - 5K time vector\")\n",
    "plt.plot(np.log2(nodes), np.log2(omp), label=\"OpenMp\", marker='o', linestyle='--', color='purple')\n",
    "plt.plot(np.log2(nodes), np.log2(mpi), label=\"MPI\", marker='o', linestyle='--', color='blue')\n",
    "plt.plot(np.log2(nodes), np.log2(stapl), label=\"STAPL\", marker='o', linestyle='--', color='black')\n",
    "plt.xlabel(\"Number of nodes\")\n",
    "plt.ylabel(\"Time (s)\")\n",
    "plt.legend()\n",
    "plt.savefig(\"../img/scaling_comparison_log2.png\")\n",
    "plt.show()"
   ]
  },
  {
   "cell_type": "code",
   "execution_count": null,
   "metadata": {},
   "outputs": [],
   "source": [
    "plt.figure(figsize=(10, 5), dpi=300)\n",
    "plt.title(\"Sppedup Comparison - 5K time vector\")\n",
    "plt.plot(nodes, cpp[0] / np.array(omp), label=\"OpenMp\", marker='o', linestyle='--', color='purple')\n",
    "plt.plot(nodes, cpp[0] / np.array(mpi), label=\"MPI\", marker='o', linestyle='--', color='blue')\n",
    "plt.plot(nodes, cpp[0] / np.array(stapl), label=\"STAPL\", marker='o', linestyle='--', color='black')\n",
    "plt.plot(nodes, nodes, label=\"Ideal\", linestyle='--', color='red')\n",
    "plt.xlabel(\"Number of cores\")\n",
    "plt.ylabel(\"Speedup\")\n",
    "plt.legend()\n",
    "plt.savefig(\"../img/speedup_comparison.png\")\n",
    "plt.show()"
   ]
  },
  {
   "cell_type": "markdown",
   "metadata": {},
   "source": [
    "## Data using all parasol machines"
   ]
  },
  {
   "cell_type": "code",
   "execution_count": null,
   "metadata": {},
   "outputs": [],
   "source": [
    "from pathlib import Path"
   ]
  },
  {
   "cell_type": "code",
   "execution_count": null,
   "metadata": {},
   "outputs": [],
   "source": [
    "LOG_OMP = Path.cwd() / \"log_bls_omp.txt\"\n",
    "LOG_MPI = Path.cwd() / \"log_bls_mpi.txt\"\n",
    "LOG_STPAL = Path.cwd() / \"log_bls_stpal.txt\"\n",
    "LOG_GLOBAL = Path.cwd() / \"log_bls_global.txt\""
   ]
  },
  {
   "cell_type": "code",
   "execution_count": null,
   "metadata": {},
   "outputs": [],
   "source": [
    "results_omp = {}\n",
    "results_mpi = {}\n",
    "results_stapl = {}\n",
    "results_global = {}\n",
    "\n",
    "with open(LOG_OMP, 'r') as f:\n",
    "    lines = f.readlines()\n",
    "    for i in range(0, len(lines), 10):\n",
    "        size = int(lines[i].split()[1])\n",
    "        threads = int(lines[i].split()[2])\n",
    "        time = float(lines[i+5].split()[3]) / 1000\n",
    "        results_omp[(size, threads)] = time\n",
    "        \n",
    "with open(LOG_MPI, 'r') as f:\n",
    "    lines = f.readlines()\n",
    "    for i in range(0, len(lines), 10):\n",
    "        size = int(lines[i].split()[6])\n",
    "        threads = int(lines[i].split()[4])\n",
    "        time = float(lines[i+5].split()[3]) / 1000\n",
    "        results_mpi[(size, threads)] = time\n",
    "        \n",
    "with open(LOG_STPAL, 'r') as f:\n",
    "    lines = f.readlines()\n",
    "    for i in range(0, len(lines), 8):\n",
    "        size = int(lines[i].split()[6])\n",
    "        threads = int(lines[i].split()[4])\n",
    "        time = float(lines[i+4].split()[2])\n",
    "        results_stapl[(size, threads)] = time\n",
    "        \n",
    "with open(LOG_GLOBAL, 'r') as f:\n",
    "    lines = f.readlines()\n",
    "    for i in range(0, len(lines), 10):\n",
    "        size = int(lines[i].split()[1])\n",
    "        time = float(lines[i+5].split()[3]) / 1000\n",
    "        results_global[(size)] = time"
   ]
  },
  {
   "cell_type": "code",
   "execution_count": null,
   "metadata": {},
   "outputs": [],
   "source": [
    "cores = [2**x for x in range(6)]"
   ]
  },
  {
   "cell_type": "code",
   "execution_count": null,
   "metadata": {},
   "outputs": [],
   "source": [
    "cpp = [results_global[size] for size in range(5000, 65000 + 1, 5000)]\n",
    "sizes = [size for size in range(5000, 65000 + 1, 5000)]\n",
    "\n",
    "for cor in cores:\n",
    "    # make the time plot for each framwork\n",
    "    omp = [results_omp[(size, cor)] for size in range(5000, 65000 + 1, 5000)]\n",
    "    mpi = [results_mpi[(size, cor)] for size in range(5000, 65000 + 1, 5000)]\n",
    "    stapl = [results_stapl[(size, cor)] for size in range(5000, 65000 + 1, 5000)]\n",
    "\n",
    "    plt.figure(figsize=(10, 5), dpi=300)\n",
    "    plt.title(f\"Framework Benchmark - {cor} cores\")\n",
    "    plt.plot(sizes, cpp, label=\"C++\", marker=\"o\", linestyle=\"--\", color=\"green\")\n",
    "    plt.plot(sizes, omp, label=\"OpenMP\", marker=\"o\", linestyle=\"--\", color=\"purple\")\n",
    "    plt.plot(sizes, mpi, label=\"MPI\", marker=\"o\", linestyle=\"--\", color=\"blue\")\n",
    "    plt.plot(sizes, stapl, label=\"STAPL\", marker=\"o\", linestyle=\"--\", color=\"black\")\n",
    "    plt.plot(sizes, pytorch, label=\"PyTorch\", marker=\"o\", linestyle=\"--\", color=\"red\")\n",
    "    plt.legend()\n",
    "    plt.xlabel(\"Size of time vector\")\n",
    "    plt.ylabel(\"Time [s]\")\n",
    "    plt.text(\n",
    "        0.95,\n",
    "        0.01,\n",
    "        \"Author: Arthur Barreto\",\n",
    "        fontsize=12,\n",
    "        ha=\"right\",\n",
    "        va=\"bottom\",\n",
    "        transform=plt.gca().transAxes,\n",
    "    )\n",
    "    plt.show()\n",
    "    \n",
    "    plt.figure(figsize=(10, 5), dpi=300)\n",
    "    plt.title(f\"Framework Benchmark (Parallel) - {cor} cores\")\n",
    "    plt.plot(sizes, omp, label=\"OpenMP\", marker=\"o\", linestyle=\"--\", color=\"purple\")\n",
    "    plt.plot(sizes, mpi, label=\"MPI\", marker=\"o\", linestyle=\"--\", color=\"blue\")\n",
    "    plt.plot(sizes, stapl, label=\"STAPL\", marker=\"o\", linestyle=\"--\", color=\"black\")\n",
    "    plt.plot(sizes, pytorch, label=\"PyTorch\", marker=\"o\", linestyle=\"--\", color=\"red\")\n",
    "    plt.legend()\n",
    "    plt.xlabel(\"Size of time vector\")\n",
    "    plt.ylabel(\"Time [s]\")\n",
    "    plt.text(\n",
    "        0.95,\n",
    "        0.01,\n",
    "        \"Author: Arthur Barreto\",\n",
    "        fontsize=12,\n",
    "        ha=\"right\",\n",
    "        va=\"bottom\",\n",
    "        transform=plt.gca().transAxes,\n",
    "    )\n",
    "    plt.show()"
   ]
  },
  {
   "cell_type": "code",
   "execution_count": null,
   "metadata": {},
   "outputs": [],
   "source": [
    "\n",
    "for size in range(5000, 65000 + 1, 5000):\n",
    "    times_omp = [results_omp[(size, thread)] for thread in cores]\n",
    "    times_mpi = [results_mpi[(size, node)] for node in cores]\n",
    "    times_stapl = [results_stapl[(size, node)] for node in cores]\n",
    "\n",
    "    plt.figure(figsize=(10, 5), dpi=300)\n",
    "    plt.title(f\"Scaling Comparison - {size} time vector\")\n",
    "    plt.plot(\n",
    "        cores, times_omp, label=\"OpenMp\", marker=\"o\", linestyle=\"--\", color=\"purple\"\n",
    "    )\n",
    "    plt.plot(cores, times_mpi, label=\"MPI\", marker=\"o\", linestyle=\"--\", color=\"blue\")\n",
    "    plt.plot(\n",
    "        cores, times_stapl, label=\"STAPL\", marker=\"o\", linestyle=\"--\", color=\"black\"\n",
    "    )\n",
    "    plt.xlabel(\"Number of cores\")\n",
    "    plt.ylabel(\"time [s]\")\n",
    "    plt.legend()\n",
    "    plt.text(\n",
    "        0.95,\n",
    "        0.10,\n",
    "        \"Author: Arthur Barreto\",\n",
    "        fontsize=12,\n",
    "        ha=\"right\",\n",
    "        va=\"bottom\",\n",
    "        transform=plt.gca().transAxes,\n",
    "    )\n",
    "    plt.show()\n",
    "\n",
    "    plt.figure(figsize=(10, 5), dpi=300)\n",
    "    plt.title(f\"Scaling Comparison on Log2 - {size} time vector\")\n",
    "    plt.plot(\n",
    "        cores, times_omp, label=\"OpenMp\", marker=\"o\", linestyle=\"--\", color=\"purple\"\n",
    "    )\n",
    "    plt.plot(cores, times_mpi, label=\"MPI\", marker=\"o\", linestyle=\"--\", color=\"blue\")\n",
    "    plt.plot(\n",
    "        cores, times_stapl, label=\"STAPL\", marker=\"o\", linestyle=\"--\", color=\"black\"\n",
    "    )\n",
    "    plt.xlabel(\"Number of cores\")\n",
    "    plt.ylabel(\"time [s]\")\n",
    "    plt.xscale(\"log\", base=2)\n",
    "    plt.yscale(\"log\", base=2)\n",
    "    plt.xticks(cores, cores)\n",
    "    plt.yticks(cores, cores)\n",
    "    plt.legend()\n",
    "    plt.text(\n",
    "        0.95,\n",
    "        0.01,\n",
    "        \"Author: Arthur Barreto\",\n",
    "        fontsize=12,\n",
    "        ha=\"right\",\n",
    "        va=\"bottom\",\n",
    "        transform=plt.gca().transAxes,\n",
    "    )\n",
    "    plt.show()\n",
    "\n",
    "    speedup_omp = times_omp[0] / np.array(times_omp)\n",
    "    speedup_mpi = times_mpi[0] / np.array(times_mpi)\n",
    "    speedup_stapl = times_stapl[0] / np.array(times_stapl)\n",
    "\n",
    "    plt.figure(figsize=(10, 5), dpi=300)\n",
    "    plt.title(f\"Speedup Comparison on Log2 - {size} time vector\")\n",
    "    plt.plot(\n",
    "        cores, speedup_omp, label=\"OpenMp\", marker=\"o\", linestyle=\"--\", color=\"purple\"\n",
    "    )\n",
    "    plt.plot(\n",
    "        cores, speedup_mpi, label=\"MPI\", marker=\"o\", linestyle=\"--\", color=\"blue\"\n",
    "    )\n",
    "    plt.plot(\n",
    "        cores, speedup_stapl, label=\"STAPL\", marker=\"o\", linestyle=\"--\", color=\"black\"\n",
    "    )\n",
    "    plt.plot(cores, cores, label=\"Ideal\", linestyle=\"--\", color=\"red\")\n",
    "    plt.xlabel(\"Number of cores\")\n",
    "    plt.ylabel(\"Speedup\")\n",
    "    plt.xscale(\"log\", base=2)\n",
    "    plt.yscale(\"log\", base=2)\n",
    "    plt.xticks(cores, cores)\n",
    "    plt.yticks(cores, cores)\n",
    "    plt.legend()\n",
    "    # write thje author name on the plot, on top right corner\n",
    "    plt.text(\n",
    "        0.95,\n",
    "        0.01,\n",
    "        \"Author: Arthur Barreto\",\n",
    "        fontsize=12,\n",
    "        ha=\"right\",\n",
    "        va=\"bottom\",\n",
    "        transform=plt.gca().transAxes,\n",
    "    )\n",
    "    plt.show()"
   ]
  },
  {
   "cell_type": "markdown",
   "metadata": {},
   "source": [
    "All tests were performed using Parasol machines, specifically from work-01 to work-03. Each machine has 18 cores, so the OpenMP results for 32 cores utilized some virtual cores. This is not the same as using 32 physical cores, resulting in a decrease in performance.\n",
    "\n",
    "For MPI, an SSH connection was established between the machines, allowing the work to be distributed among them. The same configuration applies to STAPL."
   ]
  }
 ],
 "metadata": {
  "kernelspec": {
   "display_name": "Python 3",
   "language": "python",
   "name": "python3"
  },
  "language_info": {
   "codemirror_mode": {
    "name": "ipython",
    "version": 3
   },
   "file_extension": ".py",
   "mimetype": "text/x-python",
   "name": "python",
   "nbconvert_exporter": "python",
   "pygments_lexer": "ipython3",
   "version": "3.11.5"
  }
 },
 "nbformat": 4,
 "nbformat_minor": 2
}
