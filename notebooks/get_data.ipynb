{
 "cells": [
  {
   "cell_type": "code",
   "execution_count": null,
   "metadata": {},
   "outputs": [],
   "source": [
    "from pathlib import Path\n",
    "import pandas as pd\n",
    "from lightkurve import search_targetpixelfile"
   ]
  },
  {
   "cell_type": "code",
   "execution_count": null,
   "metadata": {},
   "outputs": [],
   "source": [
    "LOG_FAILED = Path.cwd().parent / \"data\" / \"LOG_FAILED\" / \"failed_targets.csv\"\n",
    "DATA_FOLDER = Path.cwd().parent / \"data\"\n",
    "HOSTS_IDS = Path.cwd().parent / \"data\" / \"HOST_ID\" / \"filtered_df.csv\""
   ]
  },
  {
   "cell_type": "code",
   "execution_count": null,
   "metadata": {},
   "outputs": [],
   "source": [
    "df = pd.read_csv(HOSTS_IDS)"
   ]
  },
  {
   "cell_type": "code",
   "execution_count": null,
   "metadata": {},
   "outputs": [],
   "source": [
    "for hostname, disposition in zip(df.hostname, df.disposition):\n",
    "    try:\n",
    "        tpf = search_targetpixelfile(hostname, author=\"K2\", exptime=\"long\").download(\n",
    "            quality_bitmask=0\n",
    "        )\n",
    "        lc = (\n",
    "            tpf.to_lightcurve(aperture_mask=tpf.pipeline_mask)\n",
    "            .remove_nans()\n",
    "            .remove_outliers()\n",
    "            .flatten()\n",
    "        )\n",
    "        \n",
    "        lc_df = lc.to_pandas()\n",
    "        bls_df = lc[[\"time\", \"flux\", \"flux_err\"]].copy()\n",
    "        PATH = DATA_FOLDER / disposition / f\"{hostname}.csv\"\n",
    "        bls_df.to_csv(PATH)\n",
    "\n",
    "    except:\n",
    "        with open(LOG_FAILED, \"a\") as file:\n",
    "            file.write(f\"{hostname},{disposition}\\n\")"
   ]
  },
  {
   "cell_type": "code",
   "execution_count": null,
   "metadata": {},
   "outputs": [],
   "source": []
  }
 ],
 "metadata": {
  "kernelspec": {
   "display_name": "base",
   "language": "python",
   "name": "python3"
  },
  "language_info": {
   "codemirror_mode": {
    "name": "ipython",
    "version": 3
   },
   "file_extension": ".py",
   "mimetype": "text/x-python",
   "name": "python",
   "nbconvert_exporter": "python",
   "pygments_lexer": "ipython3",
   "version": "3.1.undefined"
  }
 },
 "nbformat": 4,
 "nbformat_minor": 2
}
