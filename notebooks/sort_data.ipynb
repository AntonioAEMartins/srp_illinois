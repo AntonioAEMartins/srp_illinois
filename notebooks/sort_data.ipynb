{
 "cells": [
  {
   "cell_type": "code",
   "execution_count": 11,
   "metadata": {},
   "outputs": [],
   "source": [
    "import pandas as pd\n",
    "from numpy.random import choice\n",
    "from pathlib import Path\n",
    "import numpy as np"
   ]
  },
  {
   "cell_type": "code",
   "execution_count": 3,
   "metadata": {},
   "outputs": [],
   "source": [
    "DATA = Path.cwd().parent / \"data\""
   ]
  },
  {
   "cell_type": "code",
   "execution_count": 7,
   "metadata": {},
   "outputs": [],
   "source": [
    "kepler_37 = pd.read_csv(DATA / \"Kepler-37.csv\")"
   ]
  },
  {
   "cell_type": "code",
   "execution_count": 9,
   "metadata": {},
   "outputs": [
    {
     "data": {
      "text/html": [
       "<div>\n",
       "<style scoped>\n",
       "    .dataframe tbody tr th:only-of-type {\n",
       "        vertical-align: middle;\n",
       "    }\n",
       "\n",
       "    .dataframe tbody tr th {\n",
       "        vertical-align: top;\n",
       "    }\n",
       "\n",
       "    .dataframe thead th {\n",
       "        text-align: right;\n",
       "    }\n",
       "</style>\n",
       "<table border=\"1\" class=\"dataframe\">\n",
       "  <thead>\n",
       "    <tr style=\"text-align: right;\">\n",
       "      <th></th>\n",
       "      <th>time</th>\n",
       "      <th>flux</th>\n",
       "      <th>flux_err</th>\n",
       "    </tr>\n",
       "  </thead>\n",
       "  <tbody>\n",
       "    <tr>\n",
       "      <th>0</th>\n",
       "      <td>120.539519</td>\n",
       "      <td>1.000007</td>\n",
       "      <td>0.000017</td>\n",
       "    </tr>\n",
       "    <tr>\n",
       "      <th>1</th>\n",
       "      <td>120.559953</td>\n",
       "      <td>0.999922</td>\n",
       "      <td>0.000017</td>\n",
       "    </tr>\n",
       "    <tr>\n",
       "      <th>2</th>\n",
       "      <td>120.580387</td>\n",
       "      <td>0.999940</td>\n",
       "      <td>0.000017</td>\n",
       "    </tr>\n",
       "    <tr>\n",
       "      <th>3</th>\n",
       "      <td>120.600822</td>\n",
       "      <td>0.999978</td>\n",
       "      <td>0.000017</td>\n",
       "    </tr>\n",
       "    <tr>\n",
       "      <th>4</th>\n",
       "      <td>120.621256</td>\n",
       "      <td>0.999945</td>\n",
       "      <td>0.000017</td>\n",
       "    </tr>\n",
       "  </tbody>\n",
       "</table>\n",
       "</div>"
      ],
      "text/plain": [
       "         time      flux  flux_err\n",
       "0  120.539519  1.000007  0.000017\n",
       "1  120.559953  0.999922  0.000017\n",
       "2  120.580387  0.999940  0.000017\n",
       "3  120.600822  0.999978  0.000017\n",
       "4  120.621256  0.999945  0.000017"
      ]
     },
     "execution_count": 9,
     "metadata": {},
     "output_type": "execute_result"
    }
   ],
   "source": [
    "kepler_37.head()"
   ]
  },
  {
   "cell_type": "markdown",
   "metadata": {},
   "source": [
    "## Sort points to run the bls and compare the results"
   ]
  },
  {
   "cell_type": "code",
   "execution_count": 13,
   "metadata": {},
   "outputs": [
    {
     "data": {
      "text/plain": [
       "array([  500,  1000,  1500,  2000,  2500,  3000,  3500,  4000,  4500,\n",
       "        5000,  5500,  6000,  6500,  7000,  7500,  8000,  8500,  9000,\n",
       "        9500, 10000, 10500, 11000, 11500, 12000, 12500, 13000, 13500,\n",
       "       14000, 14500, 15000])"
      ]
     },
     "execution_count": 13,
     "metadata": {},
     "output_type": "execute_result"
    }
   ],
   "source": [
    "lis_num_sort = np.arange(500, 15001, 500)\n",
    "lis_num_sort"
   ]
  },
  {
   "cell_type": "code",
   "execution_count": 16,
   "metadata": {},
   "outputs": [],
   "source": [
    "IDX_SORT = DATA / \"IDX_SORT\""
   ]
  },
  {
   "cell_type": "code",
   "execution_count": 18,
   "metadata": {},
   "outputs": [],
   "source": [
    "for qtd in lis_num_sort:\n",
    "    lis_idx = np.arange(0, len(kepler_37))\n",
    "    lis_prob = np.ones(shape=len(lis_idx), dtype=lis_idx.dtype) / len(lis_idx)\n",
    "    idx_sort = choice(lis_idx, size=qtd, replace=False, p=lis_prob)\n",
    "    idx_sort.sort()\n",
    "    FILE = IDX_SORT / f\"idx_sort_{qtd}.csv\"\n",
    "    pd.DataFrame(idx_sort).to_csv(FILE, index=False, header=False)"
   ]
  },
  {
   "cell_type": "markdown",
   "metadata": {},
   "source": [
    "## Create lc with the points sorted by"
   ]
  },
  {
   "cell_type": "code",
   "execution_count": 19,
   "metadata": {},
   "outputs": [],
   "source": [
    "for qtd in lis_num_sort:\n",
    "    FILE = IDX_SORT / f\"idx_sort_{qtd}.csv\"\n",
    "    idx_sort = pd.read_csv(FILE, header=None).values.flatten()\n",
    "    lc_reduced = kepler_37.iloc[idx_sort]\n",
    "    LC_REDUCED = DATA / \"LC_REDUCED\"\n",
    "    pd.DataFrame(lc_reduced).to_csv(LC_REDUCED / f\"lc_reduced_{qtd}.csv\", index=False)"
   ]
  }
 ],
 "metadata": {
  "kernelspec": {
   "display_name": "base",
   "language": "python",
   "name": "python3"
  },
  "language_info": {
   "codemirror_mode": {
    "name": "ipython",
    "version": 3
   },
   "file_extension": ".py",
   "mimetype": "text/x-python",
   "name": "python",
   "nbconvert_exporter": "python",
   "pygments_lexer": "ipython3",
   "version": "3.11.5"
  }
 },
 "nbformat": 4,
 "nbformat_minor": 2
}
