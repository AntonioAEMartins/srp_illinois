{
 "cells": [
  {
   "cell_type": "markdown",
   "metadata": {},
   "source": [
    "Estimating the size of the TESS/whatever dataset"
   ]
  },
  {
   "cell_type": "code",
   "execution_count": null,
   "metadata": {},
   "outputs": [],
   "source": [
    "# All guesses.\n",
    "years = 8\n",
    "sample_interval_min = 5\n",
    "pixels_per_sample = 10 * 10\n",
    "bytes_per_pixel = 4\n",
    "stars = 2000\n",
    "\n",
    "# Estimating the size.\n",
    "minutes = years * 365 * 24 * 60\n",
    "samples_per_star = minutes / sample_interval_min\n",
    "total_size = samples_per_star * pixels_per_sample * bytes_per_pixel * stars\n",
    "\n",
    "print(f'{total_size:,} bytes')"
   ]
  },
  {
   "cell_type": "code",
   "execution_count": null,
   "metadata": {},
   "outputs": [],
   "source": [
    "import pandas as pd\n",
    "import numpy as np\n",
    "from pathlib import Path\n",
    "import matplotlib.pyplot as plt"
   ]
  },
  {
   "cell_type": "code",
   "execution_count": null,
   "metadata": {},
   "outputs": [],
   "source": [
    "DATA = Path.cwd().parent / \"data\" / \"CONFIRMED\""
   ]
  },
  {
   "cell_type": "code",
   "execution_count": null,
   "metadata": {},
   "outputs": [],
   "source": [
    "K2_3 = DATA / \"K2-3.csv\""
   ]
  },
  {
   "cell_type": "code",
   "execution_count": null,
   "metadata": {},
   "outputs": [],
   "source": [
    "df = pd.read_csv(K2_3)"
   ]
  },
  {
   "cell_type": "code",
   "execution_count": null,
   "metadata": {},
   "outputs": [],
   "source": [
    "df.head()"
   ]
  },
  {
   "cell_type": "code",
   "execution_count": null,
   "metadata": {},
   "outputs": [],
   "source": [
    "df.shape"
   ]
  },
  {
   "cell_type": "code",
   "execution_count": null,
   "metadata": {},
   "outputs": [],
   "source": [
    "plt.figure(figsize=(12, 4))\n",
    "plt.title(\"K2-3\")\n",
    "plt.plot(df[\"time\"], df[\"flux\"], \"k-\")\n",
    "plt.show()"
   ]
  },
  {
   "cell_type": "markdown",
   "metadata": {},
   "source": [
    "# Copying some code from astropy to learn"
   ]
  },
  {
   "cell_type": "markdown",
   "metadata": {},
   "source": [
    "## Estimating periods"
   ]
  },
  {
   "cell_type": "code",
   "execution_count": null,
   "metadata": {},
   "outputs": [],
   "source": [
    "t = df[\"time\"]\n",
    "y = df[\"flux\"]\n",
    "dy = df[\"flux_err\"]"
   ]
  },
  {
   "cell_type": "code",
   "execution_count": null,
   "metadata": {},
   "outputs": [],
   "source": [
    "real_period = 50\n",
    "real_phase = 5\n",
    "real_duration = 0.1 * real_period\n",
    "real_diff = 0.05\n",
    "\n",
    "threshold = np.cos(np.pi * real_duration / real_period)\n",
    "\n",
    "t = np.linspace(0, 400, 65000)\n",
    "y = (np.cos(2.0 * np.pi \\\n",
    "        * (t - real_phase - real_duration / 2.0) / real_period) > threshold) \\\n",
    "    .astype(float)\n",
    "y = 1.0 - real_diff * y\n",
    "dy = 0.01 * np.ones(t.shape)"
   ]
  },
  {
   "cell_type": "code",
   "execution_count": null,
   "metadata": {},
   "outputs": [],
   "source": [
    "df_fake_py = pd.DataFrame({\"time\": t, \"flux\": y, \"flux_err\": dy})"
   ]
  },
  {
   "cell_type": "code",
   "execution_count": null,
   "metadata": {},
   "outputs": [],
   "source": [
    "df_fake_py.to_csv(\"fake_py.csv\", index=False)"
   ]
  },
  {
   "cell_type": "code",
   "execution_count": null,
   "metadata": {},
   "outputs": [],
   "source": [
    "plt.figure(figsize=(12, 4), dpi=300)\n",
    "plt.title(\"Fake data\")\n",
    "plt.xlabel(\"Time\")\n",
    "plt.ylabel(\"Flux\")\n",
    "plt.plot(t, y, \"k-\")\n",
    "plt.show()"
   ]
  },
  {
   "cell_type": "code",
   "execution_count": null,
   "metadata": {},
   "outputs": [],
   "source": [
    "from utils import auto_max_min_period, autoperiod, autophase\n",
    "\n",
    "minimum_period, maximum_period, total_duration = auto_max_min_period(t)\n",
    "periods = autoperiod(minimum_period, maximum_period, total_duration)\n",
    "\n",
    "print(minimum_period, maximum_period, total_duration, len(periods))"
   ]
  },
  {
   "cell_type": "code",
   "execution_count": null,
   "metadata": {},
   "outputs": [],
   "source": [
    "import sys\n",
    "\n",
    "from tqdm import tqdm"
   ]
  },
  {
   "cell_type": "code",
   "execution_count": null,
   "metadata": {},
   "outputs": [],
   "source": [
    "def spec_generator(t):\n",
    "    periods = autoperiod(*auto_max_min_period(t))\n",
    "    step = np.ptp(t) / len(t)\n",
    "    for p in tqdm(periods):\n",
    "        durations = np.arange(0.01 * p, 0.05 * p, step)\n",
    "        for d in durations:\n",
    "            phase = autophase(period=p, duration=d)\n",
    "            for phi in phase:\n",
    "                yield p, d, phi\n",
    "\n",
    "def spec_gen_gambiarra():\n",
    "    for p in tqdm(np.linspace(45, 55, 101)):\n",
    "        for d in np.linspace(1, 11, 11):\n",
    "            for phi in np.arange(0, p, 0.5):\n",
    "                with open(\"spec_py.csv\", \"a\") as f:\n",
    "                    f.write(f\"{p},{d},{phi}\\n\")\n",
    "                yield p, d, phi\n",
    "\n",
    "\n",
    "def compute_trel(t):\n",
    "    trel = t - np.min(t)\n",
    "    return trel\n",
    "\n",
    "\n",
    "def normalize(y):\n",
    "    y -= np.mean(y)\n",
    "    y /= (np.std(y) + sys.float_info.epsilon)\n",
    "    return y\n",
    "\n",
    "\n",
    "def compute_weights(dy):\n",
    "    w = 1.0 / dy**2\n",
    "    assert np.fabs(np.sum(w)) > sys.float_info.epsilon\n",
    "    w = w / np.sum(w)\n",
    "    return w\n"
   ]
  },
  {
   "cell_type": "code",
   "execution_count": null,
   "metadata": {},
   "outputs": [],
   "source": [
    "from numba import cuda, jit, njit\n",
    "\n",
    "\n",
    "@njit(parallel=True)\n",
    "def model(trel, y, w, period, duration, phase):\n",
    "    is_transit = \\\n",
    "        (np.fmod(trel, period) >= phase) & \\\n",
    "        (np.fmod(trel, period) <= phase + duration)\n",
    "    r = np.sum(w * is_transit)\n",
    "    s = np.sum(w * y * is_transit)\n",
    "    wx = np.sum(w * y * y)\n",
    "    d_value = wx - (s**2) / (r * (1 - r) + np.finfo(np.float64).eps)\n",
    "    return d_value\n",
    "\n",
    "\n",
    "def new_bls(t, y, dy, spec_generator):\n",
    "    trel = compute_trel(t)\n",
    "    y = normalize(y)\n",
    "    w = compute_weights(dy)\n",
    "\n",
    "    best_d_value = np.inf\n",
    "    best_period = None\n",
    "    best_duration = None\n",
    "    best_phase = None\n",
    "\n",
    "    for period, duration, phase in spec_generator:\n",
    "        d_value = model(trel, y, w, period, duration, phase)\n",
    "\n",
    "        if d_value < best_d_value:\n",
    "            best_d_value = d_value\n",
    "            best_period = period\n",
    "            best_duration = duration\n",
    "            best_phase = phase\n",
    "\n",
    "    return best_period, best_duration, best_phase, best_d_value"
   ]
  },
  {
   "cell_type": "code",
   "execution_count": null,
   "metadata": {},
   "outputs": [],
   "source": [
    "import torch\n",
    "\n",
    "\n",
    "@torch.no_grad()\n",
    "def model_torch(trel, y, w, period, duration, phase):\n",
    "    is_transit = \\\n",
    "        (torch.remainder(trel, period) >= phase) & \\\n",
    "        (torch.remainder(trel, period) <= phase + duration)\n",
    "    r = torch.sum(w * is_transit, axis=1)\n",
    "    s = torch.sum(w * y * is_transit, axis=1)\n",
    "    wx = torch.sum(w * y * y, axis=1)\n",
    "    d_value = wx - (s**2) / (r * (1 - r) + torch.finfo(torch.float64).eps)\n",
    "    return d_value\n",
    "\n",
    "\n",
    "@torch.no_grad()\n",
    "def new_bls_torch(t, y, dy, spec_generator):\n",
    "    device = torch.device(\"cuda\" if torch.cuda.is_available() else \"cpu\")\n",
    "\n",
    "    trel = torch.tensor(compute_trel(t), device=device).reshape(1, -1)\n",
    "    y = torch.tensor(normalize(y), device=device).reshape(1, -1)\n",
    "    w = torch.tensor(compute_weights(dy), device=device).reshape(1, -1)\n",
    "\n",
    "    best_d_value = np.inf\n",
    "    best_period = None\n",
    "    best_duration = None\n",
    "    best_phase = None\n",
    "\n",
    "    batch_size = 1024\n",
    "\n",
    "    periods = []\n",
    "    durations = []\n",
    "    phases = []\n",
    "\n",
    "    for k, (period, duration, phase) in enumerate(spec_generator):\n",
    "        periods.append(period)\n",
    "        durations.append(duration)\n",
    "        phases.append(phase)\n",
    "\n",
    "        if (k + 1) % batch_size == 0:\n",
    "            periods = torch.tensor(periods, device=device).reshape(-1, 1)\n",
    "            durations = torch.tensor(durations, device=device).reshape(-1, 1)\n",
    "            phases = torch.tensor(phases, device=device).reshape(-1, 1)\n",
    "\n",
    "            d_value = model_torch(trel, y, w, periods, durations, phases)\n",
    "\n",
    "            d_value, d_value_index = torch.min(d_value, dim=0)\n",
    "\n",
    "            if d_value < best_d_value:\n",
    "                best_d_value = d_value.item()\n",
    "                best_period = periods[d_value_index].item()\n",
    "                best_duration = durations[d_value_index].item()\n",
    "                best_phase = phases[d_value_index].item()\n",
    "\n",
    "            periods = []\n",
    "            durations = []\n",
    "            phases = []\n",
    "\n",
    "    return best_period, best_duration, best_phase, best_d_value"
   ]
  },
  {
   "cell_type": "code",
   "execution_count": null,
   "metadata": {},
   "outputs": [],
   "source": [
    "import time\n",
    "\n",
    "# spec_gen = spec_generator(t)\n",
    "execution_times = []\n",
    "for _ in range(32):\n",
    "    start_time = time.time()\n",
    "    spec_gen = spec_gen_gambiarra()\n",
    "    best_period, best_duration, best_phase, best_d_value = \\\n",
    "        new_bls_torch(t, y, dy, spec_gen)\n",
    "    end_time = time.time()\n",
    "    execution_times.append(end_time - start_time)\n",
    "\n",
    "mean_execution_time = sum(execution_times) / len(execution_times)\n",
    "mean_execution_time"
   ]
  },
  {
   "cell_type": "code",
   "execution_count": null,
   "metadata": {},
   "outputs": [],
   "source": [
    "best_period, best_duration, best_phase, best_d_value"
   ]
  },
  {
   "cell_type": "code",
   "execution_count": null,
   "metadata": {},
   "outputs": [],
   "source": [
    "import time\n",
    "\n",
    "# spec_gen = spec_generator(t)\n",
    "execution_times = []\n",
    "for _ in range(32):\n",
    "    start_time = time.time()\n",
    "    spec_gen = spec_gen_gambiarra()\n",
    "    best_period, best_duration, best_phase, best_d_value = \\\n",
    "        new_bls(t, y, dy, spec_gen)\n",
    "    end_time = time.time()\n",
    "    execution_times.append(end_time - start_time)\n",
    "\n",
    "mean_execution_time = sum(execution_times) / len(execution_times)\n",
    "mean_execution_time"
   ]
  },
  {
   "cell_type": "code",
   "execution_count": null,
   "metadata": {},
   "outputs": [],
   "source": [
    "best_period, best_duration, best_phase, best_d_value"
   ]
  }
 ],
 "metadata": {
  "kernelspec": {
   "display_name": "base",
   "language": "python",
   "name": "python3"
  },
  "language_info": {
   "codemirror_mode": {
    "name": "ipython",
    "version": 3
   },
   "file_extension": ".py",
   "mimetype": "text/x-python",
   "name": "python",
   "nbconvert_exporter": "python",
   "pygments_lexer": "ipython3",
   "version": "3.10.12"
  }
 },
 "nbformat": 4,
 "nbformat_minor": 2
}
