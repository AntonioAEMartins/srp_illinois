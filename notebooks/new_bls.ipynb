{
 "cells": [
  {
   "cell_type": "markdown",
   "metadata": {},
   "source": [
    "Estimating the size of the TESS/whatever dataset"
   ]
  },
  {
   "cell_type": "code",
   "execution_count": null,
   "metadata": {},
   "outputs": [],
   "source": [
    "# All guesses.\n",
    "years = 8 \n",
    "sample_interval_min = 5\n",
    "pixels_per_sample = 10 * 10\n",
    "bytes_per_pixel = 4\n",
    "stars = 2000\n",
    "\n",
    "# Estimating the size.\n",
    "minutes = years * 365 * 24 * 60\n",
    "samples_per_star = minutes / sample_interval_min\n",
    "total_size = samples_per_star * pixels_per_sample * bytes_per_pixel * stars\n",
    "\n",
    "print(f'{total_size:,} bytes')"
   ]
  },
  {
   "cell_type": "code",
   "execution_count": null,
   "metadata": {},
   "outputs": [],
   "source": [
    "import pandas as pd\n",
    "import numpy as np\n",
    "from pathlib import Path\n",
    "import matplotlib.pyplot as plt"
   ]
  },
  {
   "cell_type": "code",
   "execution_count": null,
   "metadata": {},
   "outputs": [],
   "source": [
    "DATA = Path.cwd().parent / \"data\" / \"CONFIRMED\""
   ]
  },
  {
   "cell_type": "code",
   "execution_count": null,
   "metadata": {},
   "outputs": [],
   "source": [
    "K2_3 = DATA / \"K2-3.csv\""
   ]
  },
  {
   "cell_type": "code",
   "execution_count": null,
   "metadata": {},
   "outputs": [],
   "source": [
    "df = pd.read_csv(K2_3)"
   ]
  },
  {
   "cell_type": "code",
   "execution_count": null,
   "metadata": {},
   "outputs": [],
   "source": [
    "df.head()"
   ]
  },
  {
   "cell_type": "code",
   "execution_count": null,
   "metadata": {},
   "outputs": [],
   "source": [
    "df.shape"
   ]
  },
  {
   "cell_type": "code",
   "execution_count": null,
   "metadata": {},
   "outputs": [],
   "source": [
    "plt.figure(figsize=(12, 4))\n",
    "plt.title(\"K2-3\")\n",
    "plt.plot(df[\"time\"], df[\"flux\"], \"k-\")\n",
    "plt.show()"
   ]
  },
  {
   "cell_type": "markdown",
   "metadata": {},
   "source": [
    "# Copying some code from astropy to learn"
   ]
  },
  {
   "cell_type": "markdown",
   "metadata": {},
   "source": [
    "## Estimating periods"
   ]
  },
  {
   "cell_type": "code",
   "execution_count": null,
   "metadata": {},
   "outputs": [],
   "source": [
    "t = df[\"time\"]\n",
    "y = df[\"flux\"]\n",
    "dy = df[\"flux_err\"]"
   ]
  },
  {
   "cell_type": "code",
   "execution_count": null,
   "metadata": {},
   "outputs": [],
   "source": [
    "from utils import auto_max_min_period, autoperiod, autophase"
   ]
  },
  {
   "cell_type": "code",
   "execution_count": null,
   "metadata": {},
   "outputs": [],
   "source": [
    "minimum_period, maximum_period, total_duration = auto_max_min_period(t)"
   ]
  },
  {
   "cell_type": "code",
   "execution_count": null,
   "metadata": {},
   "outputs": [],
   "source": [
    "minimum_period, maximum_period, total_duration"
   ]
  },
  {
   "cell_type": "code",
   "execution_count": null,
   "metadata": {},
   "outputs": [],
   "source": [
    "periods = autoperiod(minimum_period, maximum_period, total_duration)\n",
    "print(len(periods))"
   ]
  },
  {
   "cell_type": "code",
   "execution_count": null,
   "metadata": {},
   "outputs": [],
   "source": [
    "import sys\n",
    "\n",
    "from tqdm import tqdm"
   ]
  },
  {
   "cell_type": "code",
   "execution_count": null,
   "metadata": {},
   "outputs": [],
   "source": [
    "def spec_generator(t):\n",
    "    periods = autoperiod(*auto_max_min_period(t))\n",
    "    for p in tqdm(periods):\n",
    "        durations = np.linspace(0.01, 0.05, 50) * p\n",
    "        for d in durations:\n",
    "            phase = autophase(period=p, duration=d)\n",
    "            for phi in phase:\n",
    "                yield p, d, phi"
   ]
  },
  {
   "cell_type": "code",
   "execution_count": null,
   "metadata": {},
   "outputs": [],
   "source": [
    "from numba import njit, cuda, jit\n",
    "\n",
    "\n",
    "def compute_trel(t):\n",
    "    trel = t - np.min(t)\n",
    "    return trel\n",
    "\n",
    "\n",
    "def normalize(y):\n",
    "    y -= np.mean(y)\n",
    "    y /= (np.std(y) + sys.float_info.epsilon)\n",
    "    return y\n",
    "\n",
    "\n",
    "def compute_weights(dy):\n",
    "    w = 1.0 / dy**2\n",
    "    assert np.fabs(np.sum(w)) > sys.float_info.epsilon\n",
    "    w = w / np.sum(w)\n",
    "    return w\n",
    "\n",
    "\n",
    "@njit(parallel=True)\n",
    "def model(trel, y, w, period, duration, phase):\n",
    "    is_transit = \\\n",
    "        (np.fmod(trel, period) >= phase) & \\\n",
    "        (np.fmod(trel, period) <= phase + duration)\n",
    "    r = np.sum(w * is_transit)\n",
    "    s = np.sum(w * y * is_transit)\n",
    "    wx = np.sum(w * y * y)\n",
    "    d_value = wx - (s**2) / (r * (1 - r) + np.finfo(np.float64).eps)\n",
    "    return d_value\n",
    "\n",
    "\n",
    "def new_bls(t, y, dy, spec_generator):\n",
    "    trel = compute_trel(t)\n",
    "    y = normalize(y)\n",
    "    w = compute_weights(dy)\n",
    "\n",
    "    best_d_value = np.inf\n",
    "    best_period = None\n",
    "    best_duration = None\n",
    "    best_phase = None\n",
    "\n",
    "    for period, duration, phase in tqdm(spec_generator):\n",
    "        d_value = model(trel, y, w, period, duration, phase)\n",
    "\n",
    "        if d_value < best_d_value:\n",
    "            best_d_value = d_value\n",
    "            best_period = period\n",
    "            best_duration = duration\n",
    "            best_phase = phase\n",
    "\n",
    "    return best_period, best_duration, best_phase, best_d_value"
   ]
  },
  {
   "cell_type": "code",
   "execution_count": null,
   "metadata": {},
   "outputs": [],
   "source": [
    "real_period = 50\n",
    "real_phase = 5\n",
    "real_duration = 0.1 * real_period\n",
    "real_diff = 0.05\n",
    "\n",
    "threshold = np.cos(np.pi * real_duration / real_period)\n",
    "\n",
    "t = np.linspace(0, 400, 4000)\n",
    "y = (np.cos(2.0 * np.pi \\\n",
    "        * (t - real_phase - real_duration / 2.0) / real_period) > threshold) \\\n",
    "    .astype(float)\n",
    "y = 1.0 - real_diff * y\n",
    "dy = 0.01 * np.ones(t.shape)"
   ]
  },
  {
   "cell_type": "code",
   "execution_count": null,
   "metadata": {},
   "outputs": [],
   "source": [
    "def spec_gen_gambiarra():\n",
    "    for p in np.linspace(45, 55, 101):\n",
    "        for d in np.linspace(1, 11, 11):\n",
    "            for phi in np.arange(0, p, 0.5):\n",
    "                yield p, d, phi"
   ]
  },
  {
   "cell_type": "code",
   "execution_count": null,
   "metadata": {},
   "outputs": [],
   "source": [
    "# spec_gen = spec_generator(t)\n",
    "spec_gen = spec_gen_gambiarra()\n",
    "best_period, best_duration, best_phase, best_d_value = new_bls(t, y, dy, spec_gen)"
   ]
  },
  {
   "cell_type": "code",
   "execution_count": null,
   "metadata": {},
   "outputs": [],
   "source": [
    "best_period, best_duration, best_phase, best_d_value"
   ]
  }
 ],
 "metadata": {
  "kernelspec": {
   "display_name": "base",
   "language": "python",
   "name": "python3"
  },
  "language_info": {
   "codemirror_mode": {
    "name": "ipython",
    "version": 3
   },
   "file_extension": ".py",
   "mimetype": "text/x-python",
   "name": "python",
   "nbconvert_exporter": "python",
   "pygments_lexer": "ipython3",
   "version": "3.10.12"
  }
 },
 "nbformat": 4,
 "nbformat_minor": 2
}
