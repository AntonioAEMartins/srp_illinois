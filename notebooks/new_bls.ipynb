{
 "cells": [
  {
   "cell_type": "code",
   "execution_count": 1,
   "metadata": {},
   "outputs": [],
   "source": [
    "import pandas as pd\n",
    "import numpy as np\n",
    "from pathlib import Path\n",
    "import matplotlib.pyplot as plt"
   ]
  },
  {
   "cell_type": "code",
   "execution_count": null,
   "metadata": {},
   "outputs": [],
   "source": [
    "DATA = Path.cwd().parent / \"data\" / \"CONFIRMED\""
   ]
  },
  {
   "cell_type": "code",
   "execution_count": null,
   "metadata": {},
   "outputs": [],
   "source": [
    "K2_3 = DATA / \"K2-3.csv\""
   ]
  },
  {
   "cell_type": "code",
   "execution_count": null,
   "metadata": {},
   "outputs": [],
   "source": [
    "df = pd.read_csv(K2_3)"
   ]
  },
  {
   "cell_type": "code",
   "execution_count": null,
   "metadata": {},
   "outputs": [],
   "source": [
    "df.head()"
   ]
  },
  {
   "cell_type": "code",
   "execution_count": null,
   "metadata": {},
   "outputs": [],
   "source": [
    "plt.figure(figsize=(12, 4), dpi=300)\n",
    "plt.title(\"K2-3\")\n",
    "plt.plot(df[\"time\"], df[\"flux\"], \"k.\")\n",
    "plt.show()"
   ]
  },
  {
   "cell_type": "code",
   "execution_count": null,
   "metadata": {},
   "outputs": [],
   "source": [
    "def bls(time, flux, flux_err, periods, durations):\n",
    "    best_period = None\n",
    "    best_phase = None\n",
    "    best_D = np.inf\n",
    "    best_indices = None\n",
    "\n",
    "    for period in periods:\n",
    "        for duration in durations:\n",
    "            for phase in np.linspace(0, period, int(period / duration)):\n",
    "                r = duration / period\n",
    "                weights = 1 / flux_err**2\n",
    "                x = flux - np.mean(flux)\n",
    "                \n",
    "                in_transit = (time % period >= phase) & (time % period < phase + duration)\n",
    "                s = np.sum(weights[in_transit] * x[in_transit])\n",
    "                \n",
    "                D = np.sum(weights[in_transit] * x[in_transit]**2) - (s**2 / (r * (1 - r)))\n",
    "                \n",
    "                if D < best_D:\n",
    "                    best_D = D\n",
    "                    best_period = period\n",
    "                    best_phase = phase\n",
    "                    best_indices = np.where(in_transit)\n",
    "    \n",
    "    return best_period, best_phase, best_indices"
   ]
  },
  {
   "cell_type": "code",
   "execution_count": null,
   "metadata": {},
   "outputs": [],
   "source": [
    "def bls(time, flux, flux_err, periods, durations):\n",
    "    best_period = None\n",
    "    best_phase = None\n",
    "    best_D = np.inf\n",
    "    best_indices = None\n",
    "\n",
    "    for period in periods:\n",
    "        for duration in durations:\n",
    "            for phase in np.linspace(0, period, int(period / duration)):\n",
    "                r = duration / period\n",
    "                weights = 1 / flux_err**2\n",
    "                x = flux - np.mean(flux)\n",
    "                \n",
    "                in_transit = (time % period >= phase) & (time % period < phase + duration)\n",
    "                s = np.sum(weights[in_transit] * x[in_transit])\n",
    "                \n",
    "                D = np.sum(weights[in_transit] * x[in_transit]**2) - (s**2 / (r * (1 - r)))\n",
    "                \n",
    "                if D < best_D:\n",
    "                    best_D = D\n",
    "                    best_period = period\n",
    "                    best_phase = phase\n",
    "                    best_indices = np.where(in_transit)\n",
    "    \n",
    "    return best_period, best_phase, best_indices"
   ]
  },
  {
   "cell_type": "code",
   "execution_count": null,
   "metadata": {},
   "outputs": [],
   "source": [
    "periods = np.linspace(15,25,100)\n",
    "duration = np.linspace(0.01, 0.2, 100)"
   ]
  },
  {
   "cell_type": "code",
   "execution_count": null,
   "metadata": {},
   "outputs": [],
   "source": [
    "best_period, best_phase, best_indices = bls(df.time, df.flux, df.flux_err, periods, duration)"
   ]
  },
  {
   "cell_type": "code",
   "execution_count": null,
   "metadata": {},
   "outputs": [],
   "source": [
    "print(f\"Best period: {best_period}\")\n",
    "print(f\"Best phase: {best_phase}\")\n",
    "print(f\"Indices: {best_indices}\")"
   ]
  }
 ],
 "metadata": {
  "kernelspec": {
   "display_name": "base",
   "language": "python",
   "name": "python3"
  },
  "language_info": {
   "codemirror_mode": {
    "name": "ipython",
    "version": 3
   },
   "file_extension": ".py",
   "mimetype": "text/x-python",
   "name": "python",
   "nbconvert_exporter": "python",
   "pygments_lexer": "ipython3",
   "version": "3.11.5"
  }
 },
 "nbformat": 4,
 "nbformat_minor": 2
}
