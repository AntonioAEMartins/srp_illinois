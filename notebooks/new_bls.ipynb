{
 "cells": [
  {
   "cell_type": "markdown",
   "metadata": {},
   "source": [
    "Estimating the size of the TESS/whatever dataset"
   ]
  },
  {
   "cell_type": "code",
   "execution_count": null,
   "metadata": {},
   "outputs": [],
   "source": [
    "# All guesses.\n",
    "years = 8 \n",
    "sample_interval_min = 5\n",
    "pixels_per_sample = 10 * 10\n",
    "bytes_per_pixel = 4\n",
    "stars = 2000\n",
    "\n",
    "# Estimating the size.\n",
    "minutes = years * 365 * 24 * 60\n",
    "samples_per_star = minutes / sample_interval_min\n",
    "total_size = samples_per_star * pixels_per_sample * bytes_per_pixel * stars\n",
    "\n",
    "print(f'{total_size:,} bytes')"
   ]
  },
  {
   "cell_type": "code",
   "execution_count": null,
   "metadata": {},
   "outputs": [],
   "source": [
    "import pandas as pd\n",
    "import numpy as np\n",
    "from pathlib import Path\n",
    "import matplotlib.pyplot as plt"
   ]
  },
  {
   "cell_type": "code",
   "execution_count": null,
   "metadata": {},
   "outputs": [],
   "source": [
    "DATA = Path.cwd().parent / \"data\" / \"CONFIRMED\""
   ]
  },
  {
   "cell_type": "code",
   "execution_count": null,
   "metadata": {},
   "outputs": [],
   "source": [
    "K2_3 = DATA / \"K2-3.csv\""
   ]
  },
  {
   "cell_type": "code",
   "execution_count": null,
   "metadata": {},
   "outputs": [],
   "source": [
    "df = pd.read_csv(K2_3)"
   ]
  },
  {
   "cell_type": "code",
   "execution_count": null,
   "metadata": {},
   "outputs": [],
   "source": [
    "df.head()"
   ]
  },
  {
   "cell_type": "code",
   "execution_count": null,
   "metadata": {},
   "outputs": [],
   "source": [
    "df.shape"
   ]
  },
  {
   "cell_type": "code",
   "execution_count": null,
   "metadata": {},
   "outputs": [],
   "source": [
    "plt.figure(figsize=(12, 4))\n",
    "plt.title(\"K2-3\")\n",
    "plt.plot(df[\"time\"], df[\"flux\"], \"k-\")\n",
    "plt.show()"
   ]
  },
  {
   "cell_type": "markdown",
   "metadata": {},
   "source": [
    "# Copying some code from astropy to learn"
   ]
  },
  {
   "cell_type": "markdown",
   "metadata": {},
   "source": [
    "## Estimating periods"
   ]
  },
  {
   "cell_type": "code",
   "execution_count": null,
   "metadata": {},
   "outputs": [],
   "source": [
    "t = df[\"time\"]\n",
    "y = df[\"flux\"]\n",
    "dy = df[\"flux_err\"]"
   ]
  },
  {
   "cell_type": "code",
   "execution_count": null,
   "metadata": {},
   "outputs": [],
   "source": [
    "from utils import auto_max_min_period, autoperiod"
   ]
  },
  {
   "cell_type": "code",
   "execution_count": null,
   "metadata": {},
   "outputs": [],
   "source": [
    "minimum_period, maximum_period, total_duration = auto_max_min_period(t)"
   ]
  },
  {
   "cell_type": "code",
   "execution_count": null,
   "metadata": {},
   "outputs": [],
   "source": [
    "minimum_period, maximum_period, total_duration"
   ]
  },
  {
   "cell_type": "code",
   "execution_count": null,
   "metadata": {},
   "outputs": [],
   "source": [
    "periods = autoperiod(minimum_period, maximum_period, total_duration)\n",
    "print(len(periods))"
   ]
  },
  {
   "cell_type": "code",
   "execution_count": null,
   "metadata": {},
   "outputs": [],
   "source": [
    "import sys\n",
    "\n",
    "from tqdm import tqdm"
   ]
  },
  {
   "cell_type": "code",
   "execution_count": null,
   "metadata": {},
   "outputs": [],
   "source": [
    "def new_bls(t, y, dy):\n",
    "\n",
    "    def normalize(y):\n",
    "        y -= np.mean(y)\n",
    "        y /= np.std(y)\n",
    "        return y\n",
    "\n",
    "    def autophase(period, duration):\n",
    "        return np.arange(0, period, period / duration)\n",
    "\n",
    "    def model(t, y, w, p, d, phi):\n",
    "        trel = t - np.min(t)\n",
    "        is_transit = (np.fmod(trel, p) >= phi) & (np.fmod(trel, p) <= phi + d)\n",
    "        r = np.sum(w * is_transit)\n",
    "        s = np.sum(w * y * is_transit)\n",
    "        wx = np.sum(w * y * y)\n",
    "\n",
    "        # if r * (1 - r) == 0:\n",
    "        #     return np.inf\n",
    "\n",
    "        return wx - (s**2) / (r * (1 - r) + sys.float_info.epsilon)\n",
    "\n",
    "    w = 1.0 / dy**2\n",
    "    assert np.fabs(np.sum(w)) > sys.float_info.epsilon\n",
    "    w = w / np.sum(w)\n",
    "\n",
    "    y = normalize(y)\n",
    "\n",
    "    best_d = np.inf\n",
    "    best_period = None\n",
    "    best_phi = None\n",
    "\n",
    "    periods = autoperiod(*auto_max_min_period(t))\n",
    "    periods = np.linspace(10, 30, 500)\n",
    "    for p in tqdm(periods):\n",
    "        durations = np.linspace(0.01, 0.05, 50) * p\n",
    "        for d in durations:\n",
    "            phase = autophase(period=p, duration=d)\n",
    "            for phi in phase:\n",
    "                d_value = model(t, y, w, p, d, phi)\n",
    "                if d_value < best_d:\n",
    "                    best_d = d_value\n",
    "                    best_period = p\n",
    "                    best_phi = phi\n",
    "\n",
    "    return best_period, best_phi, best_d"
   ]
  },
  {
   "cell_type": "code",
   "execution_count": null,
   "metadata": {},
   "outputs": [],
   "source": [
    "real_period = 50\n",
    "real_phase = 5\n",
    "real_duration = 0.1 * real_period\n",
    "real_diff = 0.05\n",
    "\n",
    "threshold = np.cos(np.pi * real_duration / real_period)\n",
    "\n",
    "t = np.linspace(0, 400, 4000)\n",
    "y = (np.cos(2.0 * np.pi \\\n",
    "        * (t - real_phase - real_duration / 2.0) / real_period) > threshold) \\\n",
    "    .astype(float)\n",
    "y = 1.0 - real_diff * y\n",
    "dy = 0.01 * np.ones(t.shape)"
   ]
  },
  {
   "cell_type": "code",
   "execution_count": null,
   "metadata": {},
   "outputs": [],
   "source": [
    "plt.plot(t, y)"
   ]
  },
  {
   "cell_type": "code",
   "execution_count": null,
   "metadata": {},
   "outputs": [],
   "source": [
    "period, phi, d = new_bls(t, y, dy)"
   ]
  },
  {
   "cell_type": "code",
   "execution_count": null,
   "metadata": {},
   "outputs": [],
   "source": [
    "period, phi, d"
   ]
  },
  {
   "cell_type": "code",
   "execution_count": null,
   "metadata": {},
   "outputs": [],
   "source": [
    "def old_bls(time, flux, flux_err, periods, durations):\n",
    "    best_period = None\n",
    "    best_phase = None\n",
    "    best_D = np.inf\n",
    "    best_indices = None\n",
    "    \n",
    "    # time = np.array(time)\n",
    "    # flux = np.array(flux)\n",
    "    # flux_err = np.array(flux_err)\n",
    "    \n",
    "    weights = 1 / flux_err**2\n",
    "    weights /= np.sum(weights)\n",
    "    x = flux - np.mean(flux)\n",
    "    x /= np.std(x)\n",
    "    wx = np.sum(np.multiply(weights, np.multiply(x, x)))\n",
    "\n",
    "    for period in periods:\n",
    "        for duration in durations:\n",
    "            for phase in np.linspace(0, period, int(period / duration)):\n",
    "                in_transit = (time % period >= phase) & (time % period < phase + duration)\n",
    "                r = np.sum(weights[in_transit])\n",
    "                if r == 0 or r == 1:\n",
    "                    continue\n",
    "                s = np.sum(weights[in_transit] * x[in_transit])\n",
    "                \n",
    "                D = wx - (s**2 / (r * (1 - r)))\n",
    "                \n",
    "                if D < best_D:\n",
    "                    best_D = D\n",
    "                    best_period = period\n",
    "                    best_phase = phase\n",
    "                    best_indices = np.where(in_transit)\n",
    "    \n",
    "    return best_period, best_phase, best_indices"
   ]
  },
  {
   "cell_type": "code",
   "execution_count": null,
   "metadata": {},
   "outputs": [],
   "source": [
    "best_period, best_phase, best_indices = old_bls(t, y, dy, periods, durations)"
   ]
  },
  {
   "cell_type": "code",
   "execution_count": null,
   "metadata": {},
   "outputs": [],
   "source": [
    "def bls(time, flux, flux_err, periods, durations, num_bins=200):\n",
    "    best_period = None\n",
    "    best_phase = None\n",
    "    best_D = np.inf\n",
    "    best_indices = None\n",
    "\n",
    "    for period in periods:\n",
    "        for duration in durations:\n",
    "            for phase in np.linspace(0, period, int(period / duration)):\n",
    "                r = duration / period\n",
    "                weights = 1 / flux_err**2\n",
    "                x = flux - np.mean(flux)\n",
    "                \n",
    "                # Bin the folded time series\n",
    "                folded_time = (time % period) - phase\n",
    "                folded_time[folded_time < 0] += period  # Ensure all times are positive\n",
    "                binned_time = np.linspace(0, period, num_bins)\n",
    "                bin_indices = np.digitize(folded_time, binned_time) - 1\n",
    "                \n",
    "                bin_sums = np.zeros(num_bins)\n",
    "                bin_weights = np.zeros(num_bins)\n",
    "                bin_fluxes = np.zeros(num_bins)\n",
    "                \n",
    "                for i in range(num_bins):\n",
    "                    bin_mask = (bin_indices == i)\n",
    "                    bin_sums[i] = np.sum(weights[bin_mask] * x[bin_mask])\n",
    "                    bin_weights[i] = np.sum(weights[bin_mask])\n",
    "                    bin_fluxes[i] = np.sum(weights[bin_mask] * x[bin_mask]**2)\n",
    "                \n",
    "                # Calculate the BLS statistic\n",
    "                in_transit_bins = (binned_time >= 0) & (binned_time < duration)\n",
    "                s = np.sum(bin_sums[in_transit_bins])\n",
    "                D = np.sum(bin_fluxes[in_transit_bins]) - (s**2 / (r * (1 - r)))\n",
    "                \n",
    "                if D < best_D:\n",
    "                    best_D = D\n",
    "                    best_period = period\n",
    "                    best_phase = phase\n",
    "                    best_indices = np.where(in_transit_bins[bin_indices])\n",
    "    \n",
    "    return best_period, best_phase, best_indices"
   ]
  },
  {
   "cell_type": "code",
   "execution_count": null,
   "metadata": {},
   "outputs": [],
   "source": [
    "periods = np.linspace(15,25,100)\n",
    "duration = np.linspace(0.01, 0.2, 100)"
   ]
  },
  {
   "cell_type": "code",
   "execution_count": null,
   "metadata": {},
   "outputs": [],
   "source": [
    "best_period, best_phase, best_indices = bls(df.time, df.flux, df.flux_err, periods, duration)"
   ]
  },
  {
   "cell_type": "code",
   "execution_count": null,
   "metadata": {},
   "outputs": [],
   "source": [
    "print(f\"Best period: {best_period}\")\n",
    "print(f\"Best phase: {best_phase}\")\n",
    "print(f\"Indices: {best_indices}\")"
   ]
  }
 ],
 "metadata": {
  "kernelspec": {
   "display_name": "base",
   "language": "python",
   "name": "python3"
  },
  "language_info": {
   "codemirror_mode": {
    "name": "ipython",
    "version": 3
   },
   "file_extension": ".py",
   "mimetype": "text/x-python",
   "name": "python",
   "nbconvert_exporter": "python",
   "pygments_lexer": "ipython3",
   "version": "3.10.12"
  }
 },
 "nbformat": 4,
 "nbformat_minor": 2
}
