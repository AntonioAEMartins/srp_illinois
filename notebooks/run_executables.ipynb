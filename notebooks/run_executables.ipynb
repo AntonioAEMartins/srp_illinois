{
 "cells": [
  {
   "cell_type": "code",
   "execution_count": 1,
   "metadata": {},
   "outputs": [],
   "source": [
    "import os\n",
    "from pathlib import Path"
   ]
  },
  {
   "cell_type": "code",
   "execution_count": 2,
   "metadata": {},
   "outputs": [],
   "source": [
    "LOG_FOLDER = Path.cwd().parent / \"log\"\n",
    "LC_REDUCED = Path.cwd().parent / \"data\" / \"LC_REDUCED\""
   ]
  },
  {
   "cell_type": "markdown",
   "metadata": {},
   "source": [
    "## Run the cpu and gpu for each file on `LC_REDUCED` folder"
   ]
  },
  {
   "cell_type": "markdown",
   "metadata": {},
   "source": [
    "### For cpu"
   ]
  },
  {
   "cell_type": "code",
   "execution_count": 3,
   "metadata": {},
   "outputs": [],
   "source": [
    "for file in os.listdir(LC_REDUCED):\n",
    "    if file.endswith(\".csv\"):\n",
    "        file_path = LC_REDUCED / file\n",
    "        os.system(f\"../bls {file_path} > {LOG_FOLDER / 'cpu' / file.replace('.csv', '.log')}\")"
   ]
  },
  {
   "cell_type": "markdown",
   "metadata": {},
   "source": [
    "### For gpu"
   ]
  },
  {
   "cell_type": "code",
   "execution_count": null,
   "metadata": {},
   "outputs": [],
   "source": [
    "for file in os.listdir(LC_REDUCED):\n",
    "    if file.endswith(\".csv\"):\n",
    "        file_path = LC_REDUCED / file\n",
    "        os.system(f\"../gpu_bls {file_path} > {LOG_FOLDER / 'gpu' / file.replace('.csv', '.log')}\")"
   ]
  }
 ],
 "metadata": {
  "kernelspec": {
   "display_name": "base",
   "language": "python",
   "name": "python3"
  },
  "language_info": {
   "codemirror_mode": {
    "name": "ipython",
    "version": 3
   },
   "file_extension": ".py",
   "mimetype": "text/x-python",
   "name": "python",
   "nbconvert_exporter": "python",
   "pygments_lexer": "ipython3",
   "version": "3.11.5"
  }
 },
 "nbformat": 4,
 "nbformat_minor": 2
}
